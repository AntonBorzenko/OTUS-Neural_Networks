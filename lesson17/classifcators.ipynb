{
 "cells": [
  {
   "cell_type": "code",
   "execution_count": 1,
   "metadata": {},
   "outputs": [],
   "source": [
    "import torch\n",
    "import torch.nn as nn\n",
    "import torch.nn.functional as F\n",
    "import torch.optim as optim\n",
    "from torchvision import datasets, transforms\n",
    "\n",
    "from utils import mnist, plot_graphs, plot_mnist, to_onehot\n",
    "import numpy as np\n",
    "import os \n",
    "\n",
    "%matplotlib inline"
   ]
  },
  {
   "cell_type": "code",
   "execution_count": 2,
   "metadata": {},
   "outputs": [],
   "source": [
    "import matplotlib.pyplot as plt"
   ]
  },
  {
   "cell_type": "code",
   "execution_count": 3,
   "metadata": {},
   "outputs": [],
   "source": [
    "class FullyConnected(nn.Module):\n",
    "    def __init__(self, sizes, dropout=False, activation_fn=nn.Tanh(), flatten=False, \n",
    "                 last_fn=None, first_fn=None, device='cpu'):\n",
    "        super(FullyConnected, self).__init__()\n",
    "        layers = []\n",
    "        self.flatten = flatten\n",
    "        if first_fn is not None:\n",
    "            layers.append(first_fn)\n",
    "        for i in range(len(sizes) - 2):\n",
    "            layers.append(nn.Linear(sizes[i], sizes[i+1]))\n",
    "            if dropout:\n",
    "                layers.append(nn.Dropout(dropout))\n",
    "            layers.append(activation_fn) # нам не нужен дропаут и фнкция активации в последнем слое\n",
    "        else: \n",
    "            layers.append(nn.Linear(sizes[-2], sizes[-1]))\n",
    "        if last_fn is not None:\n",
    "            layers.append(last_fn)\n",
    "        self.model = nn.Sequential(*layers)\n",
    "        self.to(device)\n",
    "        \n",
    "    def forward(self, x, y=None):\n",
    "        if self.flatten:\n",
    "            x = x.view(x.shape[0], -1)\n",
    "        if y is not None:\n",
    "            x = torch.cat([x, y], dim=1)\n",
    "        return self.model(x)"
   ]
  },
  {
   "cell_type": "code",
   "execution_count": 4,
   "metadata": {},
   "outputs": [],
   "source": [
    "caae = torch.load('caae.models')"
   ]
  },
  {
   "cell_type": "code",
   "execution_count": 5,
   "metadata": {},
   "outputs": [],
   "source": [
    "aae_c = torch.load('aae_c.models')"
   ]
  },
  {
   "cell_type": "code",
   "execution_count": 11,
   "metadata": {},
   "outputs": [],
   "source": [
    "def eval_model(model, criterion, loader):\n",
    "    losses = []\n",
    "    good_answers = 0\n",
    "    \n",
    "    with torch.no_grad():\n",
    "        for data, target in loader:\n",
    "            target = target.to(device)\n",
    "            output = model(data)\n",
    "            loss = criterion(output, target)\n",
    "            losses.append(loss.item())\n",
    "            good_answers += (output.argmax(dim=1) == target).sum().item()\n",
    "            \n",
    "    avg_loss = np.mean(losses)\n",
    "    accuracy = good_answers / len(loader.dataset)\n",
    "    print('Eval loss = {:.3f}, eval accuracy = {:.3f}'.format(avg_loss, accuracy))\n",
    "    \n",
    "    return avg_loss, accuracy\n",
    "\n",
    "def fit_model(model, criterion, optimizer, loader, val_loader=None, epochs=1, log_interval=100, train_log=None, test_log=None):\n",
    "    for epoch in range(1, epochs + 1):\n",
    "        model.train()\n",
    "        \n",
    "        print('Epoch {}/{}'.format(epoch, epochs))\n",
    "        for batch, (data, target) in enumerate(loader):\n",
    "            target = target.to(device)\n",
    "            optimizer.zero_grad()\n",
    "            output = model(data)\n",
    "            loss = criterion(output, target)\n",
    "            loss.backward()\n",
    "            optimizer.step()\n",
    "            \n",
    "            if batch % log_interval == 0:\n",
    "                print('Batch [{}/{} ({:.0f}%)] Loss: {:.3f}'.format(batch, len(loader), 100.0 * batch / len(loader), loss.item()))\n",
    "        train_loss = loss.item()\n",
    "        if train_log is not None:\n",
    "            train_log.append(train_loss)\n",
    "        \n",
    "        model.eval()\n",
    "        if val_loader:\n",
    "            test_loss, test_acc = eval_model(model, criterion, val_loader)\n",
    "            if test_log is not None:\n",
    "                test_log.append(test_loss)"
   ]
  },
  {
   "cell_type": "code",
   "execution_count": 12,
   "metadata": {},
   "outputs": [],
   "source": [
    "device = torch.device(\"cuda:0\" if torch.cuda.is_available() else \"cpu\")\n",
    "mnist_tanh = transforms.Compose([\n",
    "    transforms.ToTensor(),\n",
    "    transforms.Normalize((0.5,), (0.5,)),\n",
    "    lambda x: x.to(device)\n",
    "])\n",
    "target_transform = lambda x: x.to(device)\n",
    "batch_size = 250\n",
    "train_loader, valid_loader, test_loader = mnist(batch_size=batch_size, valid=10000, transform=mnist_tanh)"
   ]
  },
  {
   "cell_type": "code",
   "execution_count": 13,
   "metadata": {},
   "outputs": [],
   "source": [
    "mnist_clf = FullyConnected([28 * 28, 1024, 1024, 10], activation_fn=nn.ReLU(True), flatten=True, device=device)\n",
    "caae_clf = FullyConnected([10, 1024, 1024, 10], activation_fn=nn.ReLU(True), device=device)\n",
    "aae_c_clf = FullyConnected([10, 1024, 1024, 10], activation_fn=nn.ReLU(True), device=device)"
   ]
  },
  {
   "cell_type": "code",
   "execution_count": 14,
   "metadata": {},
   "outputs": [],
   "source": [
    "lr = 1e-3\n",
    "mnist_optimizer = optim.Adam(mnist_clf.parameters(), lr)\n",
    "caae_optimizer = optim.Adam(caae_clf.parameters(), lr)\n",
    "aae_c_optimizer = optim.Adam(aae_c_clf.parameters(), lr)"
   ]
  },
  {
   "cell_type": "code",
   "execution_count": 15,
   "metadata": {
    "scrolled": true
   },
   "outputs": [
    {
     "name": "stdout",
     "output_type": "stream",
     "text": [
      "Epoch 1/10\n",
      "Batch [0/200 (0%)] Loss: 2.305\n",
      "Batch [100/200 (50%)] Loss: 0.251\n",
      "Eval loss = 0.167, eval accuracy = 0.158\n",
      "Epoch 2/10\n",
      "Batch [0/200 (0%)] Loss: 0.176\n",
      "Batch [100/200 (50%)] Loss: 0.105\n",
      "Eval loss = 0.135, eval accuracy = 0.160\n",
      "Epoch 3/10\n",
      "Batch [0/200 (0%)] Loss: 0.140\n",
      "Batch [100/200 (50%)] Loss: 0.090\n",
      "Eval loss = 0.102, eval accuracy = 0.161\n",
      "Epoch 4/10\n",
      "Batch [0/200 (0%)] Loss: 0.054\n",
      "Batch [100/200 (50%)] Loss: 0.072\n",
      "Eval loss = 0.103, eval accuracy = 0.162\n",
      "Epoch 5/10\n",
      "Batch [0/200 (0%)] Loss: 0.055\n",
      "Batch [100/200 (50%)] Loss: 0.060\n",
      "Eval loss = 0.098, eval accuracy = 0.162\n",
      "Epoch 6/10\n",
      "Batch [0/200 (0%)] Loss: 0.055\n",
      "Batch [100/200 (50%)] Loss: 0.052\n",
      "Eval loss = 0.114, eval accuracy = 0.161\n",
      "Epoch 7/10\n",
      "Batch [0/200 (0%)] Loss: 0.079\n",
      "Batch [100/200 (50%)] Loss: 0.033\n",
      "Eval loss = 0.107, eval accuracy = 0.161\n",
      "Epoch 8/10\n",
      "Batch [0/200 (0%)] Loss: 0.054\n",
      "Batch [100/200 (50%)] Loss: 0.065\n",
      "Eval loss = 0.093, eval accuracy = 0.162\n",
      "Epoch 9/10\n",
      "Batch [0/200 (0%)] Loss: 0.054\n",
      "Batch [100/200 (50%)] Loss: 0.028\n",
      "Eval loss = 0.103, eval accuracy = 0.162\n",
      "Epoch 10/10\n",
      "Batch [0/200 (0%)] Loss: 0.012\n",
      "Batch [100/200 (50%)] Loss: 0.015\n",
      "Eval loss = 0.099, eval accuracy = 0.162\n"
     ]
    }
   ],
   "source": [
    "mnist_train_log = []\n",
    "mnist_test_log = []\n",
    "fit_model(mnist_clf, nn.CrossEntropyLoss(), mnist_optimizer, \n",
    "          train_loader, valid_loader, epochs=10, train_log=mnist_train_log, test_log=mnist_test_log)"
   ]
  },
  {
   "cell_type": "code",
   "execution_count": 23,
   "metadata": {},
   "outputs": [],
   "source": [
    "class NNLoaderTransformer:\n",
    "    def __init__(self, data_loader, nn_transformer, device='cpu'):\n",
    "        self.data_loader = data_loader\n",
    "        self.dataset = data_loader.dataset\n",
    "        self.nn_transformer = nn_transformer.to(device)\n",
    "        self.device = device\n",
    "    \n",
    "    def __iter__(self):\n",
    "        for data, target in self.data_loader:\n",
    "            data, target = data.to(self.device), target.to(self.device)\n",
    "            with torch.no_grad():\n",
    "                latent = self.nn_transformer(data)\n",
    "            yield latent, target\n",
    "    \n",
    "    def __len__(self):\n",
    "        return len(self.data_loader)"
   ]
  },
  {
   "cell_type": "code",
   "execution_count": 26,
   "metadata": {},
   "outputs": [
    {
     "name": "stdout",
     "output_type": "stream",
     "text": [
      "Epoch 1/10\n",
      "Batch [0/200 (0%)] Loss: 2.305\n",
      "Batch [100/200 (50%)] Loss: 2.303\n",
      "Eval loss = 2.307, eval accuracy = 0.017\n",
      "Epoch 2/10\n",
      "Batch [0/200 (0%)] Loss: 2.302\n",
      "Batch [100/200 (50%)] Loss: 2.309\n",
      "Eval loss = 2.307, eval accuracy = 0.017\n",
      "Epoch 3/10\n",
      "Batch [0/200 (0%)] Loss: 2.304\n",
      "Batch [100/200 (50%)] Loss: 2.304\n",
      "Eval loss = 2.307, eval accuracy = 0.017\n",
      "Epoch 4/10\n",
      "Batch [0/200 (0%)] Loss: 2.310\n",
      "Batch [100/200 (50%)] Loss: 2.304\n",
      "Eval loss = 2.307, eval accuracy = 0.017\n",
      "Epoch 5/10\n",
      "Batch [0/200 (0%)] Loss: 2.304\n",
      "Batch [100/200 (50%)] Loss: 2.304\n",
      "Eval loss = 2.307, eval accuracy = 0.017\n",
      "Epoch 6/10\n",
      "Batch [0/200 (0%)] Loss: 2.307\n",
      "Batch [100/200 (50%)] Loss: 2.305\n",
      "Eval loss = 2.307, eval accuracy = 0.017\n",
      "Epoch 7/10\n",
      "Batch [0/200 (0%)] Loss: 2.304\n",
      "Batch [100/200 (50%)] Loss: 2.307\n",
      "Eval loss = 2.307, eval accuracy = 0.017\n",
      "Epoch 8/10\n",
      "Batch [0/200 (0%)] Loss: 2.307\n",
      "Batch [100/200 (50%)] Loss: 2.304\n",
      "Eval loss = 2.307, eval accuracy = 0.017\n",
      "Epoch 9/10\n",
      "Batch [0/200 (0%)] Loss: 2.307\n",
      "Batch [100/200 (50%)] Loss: 2.315\n",
      "Eval loss = 2.307, eval accuracy = 0.017\n",
      "Epoch 10/10\n",
      "Batch [0/200 (0%)] Loss: 2.319\n",
      "Batch [100/200 (50%)] Loss: 2.309\n",
      "Eval loss = 2.307, eval accuracy = 0.017\n"
     ]
    }
   ],
   "source": [
    "caae_train_log = []\n",
    "caae_test_log = []\n",
    "\n",
    "fit_model(\n",
    "    caae_clf, nn.CrossEntropyLoss(), caae_optimizer, NNLoaderTransformer(train_loader, caae['Encoder'], device),\n",
    "    NNLoaderTransformer(valid_loader, caae['Encoder'], device), epochs=10, train_log=caae_train_log, test_log=caae_test_log\n",
    ")"
   ]
  },
  {
   "cell_type": "code",
   "execution_count": 29,
   "metadata": {},
   "outputs": [
    {
     "name": "stdout",
     "output_type": "stream",
     "text": [
      "Epoch 1/10\n",
      "Batch [0/200 (0%)] Loss: 2.299\n",
      "Batch [100/200 (50%)] Loss: 0.462\n",
      "Eval loss = 0.421, eval accuracy = 0.142\n",
      "Epoch 2/10\n",
      "Batch [0/200 (0%)] Loss: 0.367\n",
      "Batch [100/200 (50%)] Loss: 0.404\n",
      "Eval loss = 0.380, eval accuracy = 0.144\n",
      "Epoch 3/10\n",
      "Batch [0/200 (0%)] Loss: 0.340\n",
      "Batch [100/200 (50%)] Loss: 0.357\n",
      "Eval loss = 0.354, eval accuracy = 0.146\n",
      "Epoch 4/10\n",
      "Batch [0/200 (0%)] Loss: 0.347\n",
      "Batch [100/200 (50%)] Loss: 0.343\n",
      "Eval loss = 0.350, eval accuracy = 0.146\n",
      "Epoch 5/10\n",
      "Batch [0/200 (0%)] Loss: 0.323\n",
      "Batch [100/200 (50%)] Loss: 0.386\n",
      "Eval loss = 0.335, eval accuracy = 0.148\n",
      "Epoch 6/10\n",
      "Batch [0/200 (0%)] Loss: 0.258\n",
      "Batch [100/200 (50%)] Loss: 0.294\n",
      "Eval loss = 0.321, eval accuracy = 0.148\n",
      "Epoch 7/10\n",
      "Batch [0/200 (0%)] Loss: 0.280\n",
      "Batch [100/200 (50%)] Loss: 0.326\n",
      "Eval loss = 0.320, eval accuracy = 0.148\n",
      "Epoch 8/10\n",
      "Batch [0/200 (0%)] Loss: 0.281\n",
      "Batch [100/200 (50%)] Loss: 0.265\n",
      "Eval loss = 0.321, eval accuracy = 0.149\n",
      "Epoch 9/10\n",
      "Batch [0/200 (0%)] Loss: 0.208\n",
      "Batch [100/200 (50%)] Loss: 0.307\n",
      "Eval loss = 0.315, eval accuracy = 0.149\n",
      "Epoch 10/10\n",
      "Batch [0/200 (0%)] Loss: 0.202\n",
      "Batch [100/200 (50%)] Loss: 0.176\n",
      "Eval loss = 0.328, eval accuracy = 0.148\n"
     ]
    }
   ],
   "source": [
    "aae_c_train_log = []\n",
    "aae_c_test_log = []\n",
    "\n",
    "fit_model(\n",
    "    aae_c_clf, nn.CrossEntropyLoss(), aae_c_optimizer, NNLoaderTransformer(train_loader, aae_c['Encoder'], device),\n",
    "    NNLoaderTransformer(valid_loader, aae_c['Encoder'], device), epochs=10, train_log=aae_c_train_log, test_log=aae_c_test_log\n",
    ")"
   ]
  },
  {
   "cell_type": "code",
   "execution_count": 30,
   "metadata": {},
   "outputs": [
    {
     "data": {
      "image/png": "[encoded data removed]",
      "text/plain": [
       "<matplotlib.figure.Figure at 0x2294abb5550>"
      ]
     },
     "metadata": {},
     "output_type": "display_data"
    }
   ],
   "source": [
    "plt.plot(mnist_train_log, label='mnist')\n",
    "plt.plot(caae_train_log, label='caae')\n",
    "plt.plot(aae_c_train_log, label='aae_c')\n",
    "plt.title('Classifiers train loss')\n",
    "plt.legend()\n",
    "plt.show()"
   ]
  },
  {
   "cell_type": "code",
   "execution_count": 31,
   "metadata": {},
   "outputs": [
    {
     "data": {
      "image/png": "[encoded data removed]",
      "text/plain": [
       "<matplotlib.figure.Figure at 0x2294abfa0b8>"
      ]
     },
     "metadata": {},
     "output_type": "display_data"
    }
   ],
   "source": [
    "plt.plot(mnist_test_log, label='mnist')\n",
    "plt.plot(caae_test_log, label='caae')\n",
    "plt.plot(aae_c_test_log, label='aae_c')\n",
    "plt.title('Classifiers test loss')\n",
    "plt.legend()\n",
    "plt.show()"
   ]
  },
  {
   "cell_type": "markdown",
   "metadata": {},
   "source": [
    "#### Вывод: больше всего информации о классе содержится в исходных данных, в то время как в латентном слое честного автокодировщика информация о классе отсутствует (кросс-энтропия = log(10))"
   ]
  },
  {
   "cell_type": "code",
   "execution_count": null,
   "metadata": {},
   "outputs": [],
   "source": []
  }
 ],
 "metadata": {
  "kernelspec": {
   "display_name": "Python 3",
   "language": "python",
   "name": "python3"
  }
 },
 "nbformat": 4,
 "nbformat_minor": 2
}
