{
 "cells": [
  {
   "cell_type": "code",
   "execution_count": 13,
   "metadata": {},
   "outputs": [],
   "source": [
    "import keras \n",
    "from keras import layers\n",
    "\n",
    "import numpy as np\n",
    "import pandas as pd\n",
    "import matplotlib.pyplot as plt"
   ]
  },
  {
   "cell_type": "code",
   "execution_count": 3,
   "metadata": {},
   "outputs": [
    {
     "data": {
      "text/plain": [
       "((404, 13), (404,))"
      ]
     },
     "execution_count": 3,
     "metadata": {},
     "output_type": "execute_result"
    }
   ],
   "source": [
    "from keras.datasets import boston_housing\n",
    "\n",
    "(train_data, train_targets), (test_data, test_targets) = boston_housing.load_data()\n",
    "\n",
    "train_data.shape, train_targets.shape"
   ]
  },
  {
   "cell_type": "code",
   "execution_count": 4,
   "metadata": {},
   "outputs": [],
   "source": [
    "HIDDEN_SIZES = [ 20, 20 ]"
   ]
  },
  {
   "cell_type": "code",
   "execution_count": 5,
   "metadata": {},
   "outputs": [],
   "source": [
    "from sklearn.metrics import mean_squared_error\n",
    "def cross_val_score(X, y, build_model, cv=10):\n",
    "    X = np.array(X)\n",
    "    y = np.array(y)\n",
    "    part = len(X) // cv\n",
    "    results = np.empty(cv)\n",
    "    for i in range(cv):\n",
    "        train_X = np.concatenate(\n",
    "            (X[:i*part],\n",
    "            X[((i+1)*part):])\n",
    "        )\n",
    "        train_y = np.concatenate(\n",
    "            (y[:i*part],\n",
    "            y[(i+1)*part:])\n",
    "        )\n",
    "        test_X = X[i*part:(i+1)*part]\n",
    "        test_y = y[i*part:(i+1)*part]\n",
    "        \n",
    "        model = build_model()\n",
    "        \n",
    "        model.fit(train_X, train_y, epochs=40, batch_size=16, verbose=0)\n",
    "        predicted = model.predict(test_X)\n",
    "        \n",
    "        results[i] = mean_squared_error(test_y, predicted)\n",
    "        \n",
    "        print('score %d: %f' % (i + 1, results[i]))\n",
    "        \n",
    "    return results.mean()"
   ]
  },
  {
   "cell_type": "markdown",
   "metadata": {},
   "source": [
    "# Sequential API"
   ]
  },
  {
   "cell_type": "code",
   "execution_count": 6,
   "metadata": {},
   "outputs": [],
   "source": [
    "def build_seq_model(input_shape=13):\n",
    "    model = keras.models.Sequential()\n",
    "    for index, size in enumerate(HIDDEN_SIZES):\n",
    "        if index == 0:\n",
    "            model.add(layers.Dense(size, activation='relu', input_shape=(input_shape,)))\n",
    "        else:\n",
    "            model.add(layers.Dense(size, activation='relu'))\n",
    "    model.add(layers.Dense(1))\n",
    "    model.compile('rmsprop', loss='mse')\n",
    "    \n",
    "    return model"
   ]
  },
  {
   "cell_type": "code",
   "execution_count": 107,
   "metadata": {},
   "outputs": [
    {
     "name": "stdout",
     "output_type": "stream",
     "text": [
      "Epoch 1/120\n",
      "404/404 [==============================] - 0s 438us/step - loss: 229.8663\n",
      "Epoch 2/120\n",
      "404/404 [==============================] - 0s 57us/step - loss: 118.8035\n",
      "Epoch 3/120\n",
      "404/404 [==============================] - 0s 94us/step - loss: 88.7734\n",
      "Epoch 4/120\n",
      "404/404 [==============================] - 0s 86us/step - loss: 80.6045\n",
      "Epoch 5/120\n",
      "404/404 [==============================] - 0s 86us/step - loss: 72.5423\n",
      "Epoch 6/120\n",
      "404/404 [==============================] - 0s 81us/step - loss: 68.5115\n",
      "Epoch 7/120\n",
      "404/404 [==============================] - 0s 57us/step - loss: 71.9424\n",
      "Epoch 8/120\n",
      "404/404 [==============================] - 0s 89us/step - loss: 65.1539\n",
      "Epoch 9/120\n",
      "404/404 [==============================] - 0s 64us/step - loss: 64.6917\n",
      "Epoch 10/120\n",
      "404/404 [==============================] - 0s 74us/step - loss: 66.0602\n",
      "Epoch 11/120\n",
      "404/404 [==============================] - 0s 47us/step - loss: 61.2504\n",
      "Epoch 12/120\n",
      "404/404 [==============================] - 0s 42us/step - loss: 64.4406\n",
      "Epoch 13/120\n",
      "404/404 [==============================] - 0s 54us/step - loss: 61.4745\n",
      "Epoch 14/120\n",
      "404/404 [==============================] - 0s 72us/step - loss: 65.1873\n",
      "Epoch 15/120\n",
      "404/404 [==============================] - 0s 74us/step - loss: 64.7643\n",
      "Epoch 16/120\n",
      "404/404 [==============================] - 0s 101us/step - loss: 63.1141\n",
      "Epoch 17/120\n",
      "404/404 [==============================] - 0s 91us/step - loss: 58.4467\n",
      "Epoch 18/120\n",
      "404/404 [==============================] - 0s 86us/step - loss: 65.5489\n",
      "Epoch 19/120\n",
      "404/404 [==============================] - 0s 62us/step - loss: 57.2924\n",
      "Epoch 20/120\n",
      "404/404 [==============================] - 0s 72us/step - loss: 59.5377\n",
      "Epoch 21/120\n",
      "404/404 [==============================] - 0s 57us/step - loss: 58.6629\n",
      "Epoch 22/120\n",
      "404/404 [==============================] - 0s 67us/step - loss: 58.6206\n",
      "Epoch 23/120\n",
      "404/404 [==============================] - 0s 47us/step - loss: 54.4492\n",
      "Epoch 24/120\n",
      "404/404 [==============================] - 0s 64us/step - loss: 58.1336\n",
      "Epoch 25/120\n",
      "404/404 [==============================] - 0s 52us/step - loss: 59.0927\n",
      "Epoch 26/120\n",
      "404/404 [==============================] - 0s 74us/step - loss: 51.6562\n",
      "Epoch 27/120\n",
      "404/404 [==============================] - 0s 52us/step - loss: 56.5458\n",
      "Epoch 28/120\n",
      "404/404 [==============================] - 0s 79us/step - loss: 53.6634\n",
      "Epoch 29/120\n",
      "404/404 [==============================] - 0s 67us/step - loss: 53.3636\n",
      "Epoch 30/120\n",
      "404/404 [==============================] - 0s 57us/step - loss: 54.6574\n",
      "Epoch 31/120\n",
      "404/404 [==============================] - 0s 74us/step - loss: 55.1460\n",
      "Epoch 32/120\n",
      "404/404 [==============================] - 0s 67us/step - loss: 50.9831\n",
      "Epoch 33/120\n",
      "404/404 [==============================] - 0s 54us/step - loss: 53.0916\n",
      "Epoch 34/120\n",
      "404/404 [==============================] - 0s 74us/step - loss: 51.7013\n",
      "Epoch 35/120\n",
      "404/404 [==============================] - 0s 69us/step - loss: 56.7699\n",
      "Epoch 36/120\n",
      "404/404 [==============================] - 0s 81us/step - loss: 48.3341\n",
      "Epoch 37/120\n",
      "404/404 [==============================] - 0s 74us/step - loss: 53.6535\n",
      "Epoch 38/120\n",
      "404/404 [==============================] - 0s 84us/step - loss: 48.1811\n",
      "Epoch 39/120\n",
      "404/404 [==============================] - 0s 84us/step - loss: 46.4145\n",
      "Epoch 40/120\n",
      "404/404 [==============================] - 0s 114us/step - loss: 52.8570\n",
      "Epoch 41/120\n",
      "404/404 [==============================] - 0s 62us/step - loss: 49.0488\n",
      "Epoch 42/120\n",
      "404/404 [==============================] - 0s 54us/step - loss: 48.1947\n",
      "Epoch 43/120\n",
      "404/404 [==============================] - 0s 81us/step - loss: 47.9430\n",
      "Epoch 44/120\n",
      "404/404 [==============================] - 0s 69us/step - loss: 48.7380\n",
      "Epoch 45/120\n",
      "404/404 [==============================] - 0s 84us/step - loss: 50.5797\n",
      "Epoch 46/120\n",
      "404/404 [==============================] - 0s 74us/step - loss: 50.3812\n",
      "Epoch 47/120\n",
      "404/404 [==============================] - 0s 86us/step - loss: 47.5427\n",
      "Epoch 48/120\n",
      "404/404 [==============================] - 0s 101us/step - loss: 48.0145\n",
      "Epoch 49/120\n",
      "404/404 [==============================] - 0s 84us/step - loss: 47.0723\n",
      "Epoch 50/120\n",
      "404/404 [==============================] - 0s 54us/step - loss: 48.5910\n",
      "Epoch 51/120\n",
      "404/404 [==============================] - 0s 96us/step - loss: 45.6982\n",
      "Epoch 52/120\n",
      "404/404 [==============================] - 0s 104us/step - loss: 46.5154\n",
      "Epoch 53/120\n",
      "404/404 [==============================] - 0s 79us/step - loss: 47.8754\n",
      "Epoch 54/120\n",
      "404/404 [==============================] - 0s 133us/step - loss: 43.1613\n",
      "Epoch 55/120\n",
      "404/404 [==============================] - 0s 91us/step - loss: 47.5553\n",
      "Epoch 56/120\n",
      "404/404 [==============================] - 0s 106us/step - loss: 47.5268\n",
      "Epoch 57/120\n",
      "404/404 [==============================] - 0s 84us/step - loss: 42.3539\n",
      "Epoch 58/120\n",
      "404/404 [==============================] - 0s 64us/step - loss: 46.0355\n",
      "Epoch 59/120\n",
      "404/404 [==============================] - 0s 79us/step - loss: 48.1602\n",
      "Epoch 60/120\n",
      "404/404 [==============================] - 0s 86us/step - loss: 48.9478\n",
      "Epoch 61/120\n",
      "404/404 [==============================] - 0s 106us/step - loss: 39.5708\n",
      "Epoch 62/120\n",
      "404/404 [==============================] - 0s 94us/step - loss: 43.1835\n",
      "Epoch 63/120\n",
      "404/404 [==============================] - 0s 91us/step - loss: 43.1943\n",
      "Epoch 64/120\n",
      "404/404 [==============================] - 0s 104us/step - loss: 45.8521\n",
      "Epoch 65/120\n",
      "404/404 [==============================] - 0s 72us/step - loss: 41.8401\n",
      "Epoch 66/120\n",
      "404/404 [==============================] - 0s 89us/step - loss: 43.5681\n",
      "Epoch 67/120\n",
      "404/404 [==============================] - 0s 49us/step - loss: 41.4815\n",
      "Epoch 68/120\n",
      "404/404 [==============================] - 0s 52us/step - loss: 43.3864\n",
      "Epoch 69/120\n",
      "404/404 [==============================] - 0s 86us/step - loss: 45.6688\n",
      "Epoch 70/120\n",
      "404/404 [==============================] - 0s 57us/step - loss: 38.2589\n",
      "Epoch 71/120\n",
      "404/404 [==============================] - 0s 81us/step - loss: 44.5189\n",
      "Epoch 72/120\n",
      "404/404 [==============================] - 0s 49us/step - loss: 43.9673\n",
      "Epoch 73/120\n",
      "404/404 [==============================] - 0s 35us/step - loss: 41.5171\n",
      "Epoch 74/120\n",
      "404/404 [==============================] - 0s 32us/step - loss: 41.1873\n",
      "Epoch 75/120\n",
      "404/404 [==============================] - 0s 35us/step - loss: 40.2304\n",
      "Epoch 76/120\n",
      "404/404 [==============================] - 0s 35us/step - loss: 38.1474\n",
      "Epoch 77/120\n",
      "404/404 [==============================] - 0s 37us/step - loss: 41.7575\n",
      "Epoch 78/120\n",
      "404/404 [==============================] - 0s 47us/step - loss: 41.0617\n",
      "Epoch 79/120\n",
      "404/404 [==============================] - 0s 47us/step - loss: 42.2036\n",
      "Epoch 80/120\n",
      "404/404 [==============================] - 0s 39us/step - loss: 38.9546\n",
      "Epoch 81/120\n",
      "404/404 [==============================] - 0s 37us/step - loss: 39.9072\n",
      "Epoch 82/120\n",
      "404/404 [==============================] - 0s 37us/step - loss: 38.0397\n",
      "Epoch 83/120\n",
      "404/404 [==============================] - 0s 30us/step - loss: 41.3124\n",
      "Epoch 84/120\n",
      "404/404 [==============================] - 0s 37us/step - loss: 42.2992\n",
      "Epoch 85/120\n",
      "404/404 [==============================] - 0s 47us/step - loss: 35.1519\n",
      "Epoch 86/120\n",
      "404/404 [==============================] - 0s 54us/step - loss: 42.7626\n",
      "Epoch 87/120\n",
      "404/404 [==============================] - 0s 37us/step - loss: 40.4961\n",
      "Epoch 88/120\n",
      "404/404 [==============================] - 0s 37us/step - loss: 38.5912\n",
      "Epoch 89/120\n",
      "404/404 [==============================] - 0s 35us/step - loss: 41.0713\n",
      "Epoch 90/120\n",
      "404/404 [==============================] - 0s 35us/step - loss: 37.8789\n",
      "Epoch 91/120\n",
      "404/404 [==============================] - 0s 52us/step - loss: 40.4093\n",
      "Epoch 92/120\n",
      "404/404 [==============================] - 0s 37us/step - loss: 39.3286\n",
      "Epoch 93/120\n",
      "404/404 [==============================] - 0s 35us/step - loss: 41.7400\n",
      "Epoch 94/120\n",
      "404/404 [==============================] - 0s 32us/step - loss: 38.8746\n",
      "Epoch 95/120\n",
      "404/404 [==============================] - 0s 40us/step - loss: 33.4320\n",
      "Epoch 96/120\n",
      "404/404 [==============================] - 0s 44us/step - loss: 37.5903\n",
      "Epoch 97/120\n",
      "404/404 [==============================] - 0s 49us/step - loss: 37.8491\n",
      "Epoch 98/120\n",
      "404/404 [==============================] - 0s 37us/step - loss: 42.9598\n",
      "Epoch 99/120\n",
      "404/404 [==============================] - 0s 39us/step - loss: 38.9428\n",
      "Epoch 100/120\n",
      "404/404 [==============================] - 0s 32us/step - loss: 34.5283\n",
      "Epoch 101/120\n",
      "404/404 [==============================] - 0s 54us/step - loss: 37.4987\n",
      "Epoch 102/120\n",
      "404/404 [==============================] - 0s 39us/step - loss: 37.9349\n",
      "Epoch 103/120\n",
      "404/404 [==============================] - 0s 35us/step - loss: 44.5325\n",
      "Epoch 104/120\n",
      "404/404 [==============================] - 0s 37us/step - loss: 38.0611\n",
      "Epoch 105/120\n",
      "404/404 [==============================] - 0s 35us/step - loss: 39.8972\n",
      "Epoch 106/120\n",
      "404/404 [==============================] - 0s 35us/step - loss: 35.1126\n",
      "Epoch 107/120\n",
      "404/404 [==============================] - 0s 59us/step - loss: 33.1770\n",
      "Epoch 108/120\n",
      "404/404 [==============================] - 0s 47us/step - loss: 42.3355\n",
      "Epoch 109/120\n",
      "404/404 [==============================] - 0s 57us/step - loss: 36.1774\n",
      "Epoch 110/120\n",
      "404/404 [==============================] - 0s 37us/step - loss: 38.5808\n",
      "Epoch 111/120\n",
      "404/404 [==============================] - 0s 35us/step - loss: 39.2898\n",
      "Epoch 112/120\n",
      "404/404 [==============================] - 0s 37us/step - loss: 34.9902\n",
      "Epoch 113/120\n",
      "404/404 [==============================] - 0s 54us/step - loss: 37.8770\n",
      "Epoch 114/120\n",
      "404/404 [==============================] - ETA: 0s - loss: 32.56 - 0s 42us/step - loss: 38.6501\n",
      "Epoch 115/120\n",
      "404/404 [==============================] - 0s 62us/step - loss: 39.8417\n",
      "Epoch 116/120\n",
      "404/404 [==============================] - 0s 49us/step - loss: 35.3566\n",
      "Epoch 117/120\n",
      "404/404 [==============================] - 0s 44us/step - loss: 44.1889\n",
      "Epoch 118/120\n",
      "404/404 [==============================] - 0s 84us/step - loss: 37.6332\n",
      "Epoch 119/120\n",
      "404/404 [==============================] - 0s 57us/step - loss: 34.1526\n",
      "Epoch 120/120\n",
      "404/404 [==============================] - 0s 91us/step - loss: 38.5778\n"
     ]
    },
    {
     "data": {
      "text/plain": [
       "<keras.callbacks.History at 0x1144f604668>"
      ]
     },
     "execution_count": 107,
     "metadata": {},
     "output_type": "execute_result"
    }
   ],
   "source": [
    "model = build_seq_model()\n",
    "model.fit(train_data, train_targets, epochs=1200, batch_size=32, verbose=0)"
   ]
  },
  {
   "cell_type": "code",
   "execution_count": 166,
   "metadata": {},
   "outputs": [
    {
     "name": "stdout",
     "output_type": "stream",
     "text": [
      "score 1: 54.909857\n",
      "score 2: 14.191667\n",
      "score 3: 51.907463\n",
      "score 4: 38.013320\n",
      "score 5: 45.592122\n",
      "score 6: 27.559410\n",
      "score 7: 30.176370\n",
      "score 8: 74.554982\n",
      "score 9: 108.809416\n",
      "score 10: 28.408072\n",
      "Wall time: 1min 42s\n"
     ]
    },
    {
     "data": {
      "text/plain": [
       "47.41226779200325"
      ]
     },
     "execution_count": 166,
     "metadata": {},
     "output_type": "execute_result"
    }
   ],
   "source": [
    "%%time\n",
    "cross_val_score(train_data, train_targets, build_seq_model)"
   ]
  },
  {
   "cell_type": "code",
   "execution_count": 8,
   "metadata": {},
   "outputs": [
    {
     "data": {
      "text/plain": [
       "25.075378478863474"
      ]
     },
     "execution_count": 8,
     "metadata": {},
     "output_type": "execute_result"
    }
   ],
   "source": [
    "# linear predictions\n",
    "\n",
    "from sklearn import model_selection\n",
    "from sklearn.linear_model import LinearRegression\n",
    "-model_selection.cross_val_score(LinearRegression(), train_data, train_targets, cv=10, scoring='neg_mean_squared_error').mean()"
   ]
  },
  {
   "cell_type": "markdown",
   "metadata": {},
   "source": [
    "# Functional API"
   ]
  },
  {
   "cell_type": "code",
   "execution_count": 9,
   "metadata": {},
   "outputs": [],
   "source": [
    "from keras.layers import Input, Dense\n",
    "from keras.models import Model\n",
    "\n",
    "def build_func_model(input_shape=13):\n",
    "    inputs = x = Input(shape=(13,))\n",
    "    \n",
    "    for size in HIDDEN_SIZES:\n",
    "        x = Dense(size, activation='relu')(x)\n",
    "        \n",
    "    predictions = Dense(1)(x)\n",
    "    \n",
    "    model = Model(inputs=inputs, outputs=predictions)\n",
    "    model.compile('rmsprop', loss='mse')\n",
    "    \n",
    "    return model"
   ]
  },
  {
   "cell_type": "code",
   "execution_count": 170,
   "metadata": {},
   "outputs": [
    {
     "name": "stdout",
     "output_type": "stream",
     "text": [
      "score 1: 64.513101\n",
      "score 2: 15.015668\n",
      "score 3: 52.995267\n",
      "score 4: 42.571544\n",
      "score 5: 27.660728\n",
      "score 6: 48.976431\n",
      "score 7: 21.550745\n",
      "score 8: 98.399916\n",
      "score 9: 76.177416\n",
      "score 10: 31.514238\n",
      "Wall time: 1min 43s\n"
     ]
    },
    {
     "data": {
      "text/plain": [
       "47.93750529987219"
      ]
     },
     "execution_count": 170,
     "metadata": {},
     "output_type": "execute_result"
    }
   ],
   "source": [
    "%%time\n",
    "cross_val_score(train_data, train_targets, build_func_model)"
   ]
  },
  {
   "cell_type": "markdown",
   "metadata": {},
   "source": [
    "# Subclassing API"
   ]
  },
  {
   "cell_type": "code",
   "execution_count": 10,
   "metadata": {},
   "outputs": [],
   "source": [
    "class SubModel(Model):\n",
    "    def __init__(self):\n",
    "        super().__init__()\n",
    "        self.dense1 = Dense(20, activation='relu')\n",
    "        self.dense2 = Dense(20, activation='relu')\n",
    "        self.predictions =  Dense(1)\n",
    "        self.compile('rmsprop', loss='mse')\n",
    "        \n",
    "    def call(self, x):\n",
    "        x = self.dense1(x)\n",
    "        x = self.dense2(x)\n",
    "        \n",
    "        return self.predictions(x)\n",
    "\n",
    "def build_subclassing_model():\n",
    "    return SubModel()"
   ]
  },
  {
   "cell_type": "code",
   "execution_count": 12,
   "metadata": {},
   "outputs": [
    {
     "name": "stdout",
     "output_type": "stream",
     "text": [
      "score 1: 57.393706\n",
      "score 2: 13.561560\n",
      "score 3: 41.599184\n",
      "score 4: 46.019086\n",
      "score 5: 36.840373\n",
      "score 6: 22.568422\n",
      "score 7: 22.852063\n",
      "score 8: 105.411047\n",
      "score 9: 91.451602\n",
      "score 10: 32.985760\n",
      "Wall time: 20.1 s\n"
     ]
    },
    {
     "data": {
      "text/plain": [
       "47.06828030310907"
      ]
     },
     "execution_count": 12,
     "metadata": {},
     "output_type": "execute_result"
    }
   ],
   "source": [
    "%%time\n",
    "cross_val_score(train_data, train_targets, build_subclassing_model)"
   ]
  },
  {
   "cell_type": "code",
   "execution_count": null,
   "metadata": {},
   "outputs": [],
   "source": []
  }
 ],
 "metadata": {
  "kernelspec": {
   "display_name": "Python 3",
   "language": "python",
   "name": "python3"
  },
  "language_info": {
   "codemirror_mode": {
    "name": "ipython",
    "version": 3
   },
   "file_extension": ".py",
   "mimetype": "text/x-python",
   "name": "python",
   "nbconvert_exporter": "python",
   "pygments_lexer": "ipython3",
   "version": "3.6.3"
  }
 },
 "nbformat": 4,
 "nbformat_minor": 2
}
