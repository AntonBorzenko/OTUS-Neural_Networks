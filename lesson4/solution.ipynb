{
 "cells": [
  {
   "cell_type": "code",
   "execution_count": 1,
   "metadata": {},
   "outputs": [
    {
     "name": "stderr",
     "output_type": "stream",
     "text": [
      "c:\\program files\\python36\\lib\\site-packages\\h5py\\__init__.py:36: FutureWarning: Conversion of the second argument of issubdtype from `float` to `np.floating` is deprecated. In future, it will be treated as `np.float64 == np.dtype(float).type`.\n",
      "  from ._conv import register_converters as _register_converters\n",
      "Using TensorFlow backend.\n"
     ]
    }
   ],
   "source": [
    "import keras \n",
    "from keras import layers\n",
    "\n",
    "import numpy as np\n",
    "import pandas as pd\n",
    "import matplotlib.pyplot as plt"
   ]
  },
  {
   "cell_type": "code",
   "execution_count": 2,
   "metadata": {},
   "outputs": [
    {
     "data": {
      "text/plain": [
       "((404, 13), (404,))"
      ]
     },
     "execution_count": 2,
     "metadata": {},
     "output_type": "execute_result"
    }
   ],
   "source": [
    "from keras.datasets import boston_housing\n",
    "\n",
    "(train_data, train_targets), (test_data, test_targets) = boston_housing.load_data()\n",
    "\n",
    "train_data.shape, train_targets.shape"
   ]
  },
  {
   "cell_type": "code",
   "execution_count": 3,
   "metadata": {},
   "outputs": [],
   "source": [
    "HIDDEN_SIZES = [ 20, 20 ]"
   ]
  },
  {
   "cell_type": "code",
   "execution_count": 4,
   "metadata": {},
   "outputs": [],
   "source": [
    "from sklearn.metrics import mean_squared_error\n",
    "def cross_val_score(X, y, build_model, cv=10):\n",
    "    X = np.array(X)\n",
    "    y = np.array(y)\n",
    "    part = len(X) // cv\n",
    "    results = np.empty(cv)\n",
    "    for i in range(cv):\n",
    "        train_X = np.concatenate(\n",
    "            (X[:i*part],\n",
    "            X[((i+1)*part):])\n",
    "        )\n",
    "        train_y = np.concatenate(\n",
    "            (y[:i*part],\n",
    "            y[(i+1)*part:])\n",
    "        )\n",
    "        test_X = X[i*part:(i+1)*part]\n",
    "        test_y = y[i*part:(i+1)*part]\n",
    "        \n",
    "        model = build_model()\n",
    "        \n",
    "        model.fit(train_X, train_y, epochs=40, batch_size=16, verbose=0)\n",
    "        predicted = model.predict(test_X)\n",
    "        \n",
    "        results[i] = mean_squared_error(test_y, predicted)\n",
    "        \n",
    "        print('score %d: %f' % (i + 1, results[i]))\n",
    "        \n",
    "    return results.mean()"
   ]
  },
  {
   "cell_type": "markdown",
   "metadata": {},
   "source": [
    "# Sequential API"
   ]
  },
  {
   "cell_type": "code",
   "execution_count": 5,
   "metadata": {},
   "outputs": [],
   "source": [
    "def build_seq_model(input_shape=13):\n",
    "    model = keras.models.Sequential()\n",
    "    for index, size in enumerate(HIDDEN_SIZES):\n",
    "        if index == 0:\n",
    "            model.add(layers.Dense(size, activation='relu', input_shape=(input_shape,)))\n",
    "        else:\n",
    "            model.add(layers.Dense(size, activation='relu'))\n",
    "    model.add(layers.Dense(1))\n",
    "    model.compile('rmsprop', loss='mse')\n",
    "    \n",
    "    return model"
   ]
  },
  {
   "cell_type": "code",
   "execution_count": 23,
   "metadata": {},
   "outputs": [
    {
     "data": {
      "text/plain": [
       "<keras.callbacks.History at 0x2897d7e6c88>"
      ]
     },
     "execution_count": 23,
     "metadata": {},
     "output_type": "execute_result"
    }
   ],
   "source": [
    "model = build_seq_model()\n",
    "model.fit(train_data, train_targets, epochs=120, batch_size=32, verbose=0)"
   ]
  },
  {
   "cell_type": "code",
   "execution_count": 7,
   "metadata": {},
   "outputs": [
    {
     "name": "stdout",
     "output_type": "stream",
     "text": [
      "score 1: 108.832809\n",
      "score 2: 9.489520\n",
      "score 3: 41.941970\n",
      "score 4: 43.703529\n",
      "score 5: 37.561281\n",
      "score 6: 23.920821\n",
      "score 7: 16.590272\n",
      "score 8: 68.630472\n",
      "score 9: 86.361597\n",
      "score 10: 60.280829\n",
      "Wall time: 13.2 s\n"
     ]
    },
    {
     "data": {
      "text/plain": [
       "49.731309860103046"
      ]
     },
     "execution_count": 7,
     "metadata": {},
     "output_type": "execute_result"
    }
   ],
   "source": [
    "%%time\n",
    "cross_val_score(train_data, train_targets, build_seq_model)"
   ]
  },
  {
   "cell_type": "code",
   "execution_count": 8,
   "metadata": {},
   "outputs": [
    {
     "data": {
      "text/plain": [
       "25.075378478863474"
      ]
     },
     "execution_count": 8,
     "metadata": {},
     "output_type": "execute_result"
    }
   ],
   "source": [
    "# linear predictions\n",
    "\n",
    "from sklearn import model_selection\n",
    "from sklearn.linear_model import LinearRegression\n",
    "-model_selection.cross_val_score(LinearRegression(), train_data, train_targets, cv=10, scoring='neg_mean_squared_error').mean()"
   ]
  },
  {
   "cell_type": "markdown",
   "metadata": {},
   "source": [
    "# Functional API"
   ]
  },
  {
   "cell_type": "code",
   "execution_count": 21,
   "metadata": {},
   "outputs": [],
   "source": [
    "from keras.layers import Input, Dense\n",
    "from keras.models import Model\n",
    "\n",
    "def build_func_model(input_shape=13):\n",
    "    inputs = x = Input(shape=(13,))\n",
    "    \n",
    "    for size in HIDDEN_SIZES:\n",
    "        x = Dense(size, activation='relu')(x)\n",
    "        \n",
    "    predictions = Dense(1)(x)\n",
    "    \n",
    "    model = Model(inputs=inputs, outputs=predictions)\n",
    "    model.compile('rmsprop', loss='mse')\n",
    "    \n",
    "    return model"
   ]
  },
  {
   "cell_type": "code",
   "execution_count": 10,
   "metadata": {},
   "outputs": [
    {
     "name": "stdout",
     "output_type": "stream",
     "text": [
      "score 1: 76.499378\n",
      "score 2: 57.663296\n",
      "score 3: 52.520988\n",
      "score 4: 41.615008\n",
      "score 5: 66.624906\n",
      "score 6: 84.218448\n",
      "score 7: 20.797712\n",
      "score 8: 65.058590\n",
      "score 9: 84.092903\n",
      "score 10: 33.364580\n",
      "Wall time: 15.6 s\n"
     ]
    },
    {
     "data": {
      "text/plain": [
       "58.245580978760415"
      ]
     },
     "execution_count": 10,
     "metadata": {},
     "output_type": "execute_result"
    }
   ],
   "source": [
    "%%time\n",
    "cross_val_score(train_data, train_targets, build_func_model)"
   ]
  },
  {
   "cell_type": "markdown",
   "metadata": {},
   "source": [
    "# Subclassing API"
   ]
  },
  {
   "cell_type": "code",
   "execution_count": 11,
   "metadata": {},
   "outputs": [],
   "source": [
    "class SubModel(Model):\n",
    "    def __init__(self):\n",
    "        super().__init__()\n",
    "        self.dense1 = Dense(20, activation='relu')\n",
    "        self.dense2 = Dense(20, activation='relu')\n",
    "        self.predictions =  Dense(1)\n",
    "        self.compile('rmsprop', loss='mse')\n",
    "        \n",
    "    def call(self, x):\n",
    "        x = self.dense1(x)\n",
    "        x = self.dense2(x)\n",
    "        \n",
    "        return self.predictions(x)\n",
    "\n",
    "def build_subclassing_model():\n",
    "    return SubModel()"
   ]
  },
  {
   "cell_type": "code",
   "execution_count": 12,
   "metadata": {},
   "outputs": [
    {
     "name": "stdout",
     "output_type": "stream",
     "text": [
      "score 1: 49.905433\n",
      "score 2: 27.165728\n",
      "score 3: 45.887543\n",
      "score 4: 64.571509\n",
      "score 5: 40.305240\n",
      "score 6: 23.996428\n",
      "score 7: 20.641424\n",
      "score 8: 62.366696\n",
      "score 9: 88.188319\n",
      "score 10: 36.851490\n",
      "Wall time: 17.9 s\n"
     ]
    },
    {
     "data": {
      "text/plain": [
       "45.98798100920051"
      ]
     },
     "execution_count": 12,
     "metadata": {},
     "output_type": "execute_result"
    }
   ],
   "source": [
    "%%time\n",
    "cross_val_score(train_data, train_targets, build_subclassing_model)"
   ]
  },
  {
   "cell_type": "code",
   "execution_count": 60,
   "metadata": {},
   "outputs": [
    {
     "name": "stdout",
     "output_type": "stream",
     "text": [
      "Epoch 1/10\n",
      "404/404 [==============================] - 1s 2ms/step - loss: 1180.9942\n",
      "Epoch 2/10\n",
      "404/404 [==============================] - 0s 123us/step - loss: 94.1677\n",
      "Epoch 3/10\n",
      "404/404 [==============================] - 0s 128us/step - loss: 90.8009\n",
      "Epoch 4/10\n",
      "404/404 [==============================] - 0s 160us/step - loss: 86.3676: 0s - loss: 86.897\n",
      "Epoch 5/10\n",
      "404/404 [==============================] - 0s 170us/step - loss: 76.9403\n",
      "Epoch 6/10\n",
      "404/404 [==============================] - 0s 279us/step - loss: 78.9879\n",
      "Epoch 7/10\n",
      "404/404 [==============================] - 0s 257us/step - loss: 68.9439\n",
      "Epoch 8/10\n",
      "404/404 [==============================] - 0s 185us/step - loss: 67.4442\n",
      "Epoch 9/10\n",
      "404/404 [==============================] - 0s 170us/step - loss: 64.3151\n",
      "Epoch 10/10\n",
      "404/404 [==============================] - 0s 207us/step - loss: 61.5531\n"
     ]
    },
    {
     "data": {
      "text/plain": [
       "<keras.callbacks.History at 0x28902679ef0>"
      ]
     },
     "execution_count": 60,
     "metadata": {},
     "output_type": "execute_result"
    }
   ],
   "source": [
    "class SubModel(Model):\n",
    "    def __init__(self):\n",
    "        super().__init__()\n",
    "        self.denses = [ Dense(size, activation='relu') for size in HIDDEN_SIZES ]\n",
    "        self.denses.append(Dense(1))\n",
    "        \n",
    "        for index, dense in enumerate(self.denses):\n",
    "            setattr(self, '__dense%d__' % (index + 1), dense)\n",
    "        \n",
    "        self.compile('rmsprop', loss='mse')\n",
    "        \n",
    "    def call(self, x):\n",
    "        for dense in self.denses:\n",
    "            x = dense(x)\n",
    "        return x\n",
    "\n",
    "def build_subclassing_model():\n",
    "    return SubModel()\n",
    "\n",
    "model = build_subclassing_model()\n",
    "model.fit(train_data, train_targets, batch_size=16, epochs=10)"
   ]
  },
  {
   "cell_type": "code",
   "execution_count": null,
   "metadata": {},
   "outputs": [],
   "source": []
  }
 ],
 "metadata": {
  "kernelspec": {
   "display_name": "Python 3",
   "language": "python",
   "name": "python3"
  },
  "language_info": {
   "codemirror_mode": {
    "name": "ipython",
    "version": 3
   },
   "file_extension": ".py",
   "mimetype": "text/x-python",
   "name": "python",
   "nbconvert_exporter": "python",
   "pygments_lexer": "ipython3",
   "version": "3.6.3"
  }
 },
 "nbformat": 4,
 "nbformat_minor": 2
}
